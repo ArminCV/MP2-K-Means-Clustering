{
 "cells": [
  {
   "cell_type": "code",
   "execution_count": 1,
   "metadata": {},
   "outputs": [],
   "source": [
    "# import K-Means\n",
    "from sklearn.cluster import KMeans"
   ]
  },
  {
   "cell_type": "code",
   "execution_count": 2,
   "metadata": {},
   "outputs": [],
   "source": [
    "# import numpy and pandas\n",
    "import pandas as pd\n",
    "import numpy as np"
   ]
  },
  {
   "cell_type": "code",
   "execution_count": 3,
   "metadata": {},
   "outputs": [],
   "source": [
    "# for visualization\n",
    "from matplotlib import pyplot as plt\n",
    "from matplotlib import cm"
   ]
  },
  {
   "cell_type": "code",
   "execution_count": 4,
   "metadata": {},
   "outputs": [],
   "source": [
    "df = pd.read_csv(\"C:\\Users\\Armin\\Desktop\\College Doc Final1\\BusinessProcess\\Assignment2\\wine.data.csv\")"
   ]
  },
  {
   "cell_type": "code",
   "execution_count": 5,
   "metadata": {},
   "outputs": [],
   "source": [
    "# no. of clusters\n",
    "clusters = 3"
   ]
  },
  {
   "cell_type": "code",
   "execution_count": 6,
   "metadata": {},
   "outputs": [],
   "source": [
    "km = KMeans(n_clusters=clusters, n_init=50, tol=1e-10, random_state=1234).fit(df)"
   ]
  },
  {
   "cell_type": "code",
   "execution_count": 7,
   "metadata": {},
   "outputs": [
    {
     "name": "stdout",
     "output_type": "stream",
     "text": [
      "[[1.02127660e+00 1.38044681e+01 1.88340426e+00 2.42617021e+00\n",
      "  1.70234043e+01 1.05510638e+02 2.86723404e+00 3.01425532e+00\n",
      "  2.85319149e-01 1.91042553e+00 5.70255319e+00 1.07829787e+00\n",
      "  3.11404255e+00 1.19514894e+03]\n",
      " [2.27536232e+00 1.25166667e+01 2.49420290e+00 2.28855072e+00\n",
      "  2.08231884e+01 9.23478261e+01 2.07072464e+00 1.75840580e+00\n",
      "  3.90144928e-01 1.45188406e+00 4.08695651e+00 9.41159420e-01\n",
      "  2.49072464e+00 4.58231884e+02]\n",
      " [2.25806452e+00 1.29298387e+01 2.50403226e+00 2.40806452e+00\n",
      "  1.98903226e+01 1.03596774e+02 2.11112903e+00 1.58403226e+00\n",
      "  3.88387097e-01 1.50338710e+00 5.65032258e+00 8.83967742e-01\n",
      "  2.36548387e+00 7.28338710e+02]]\n"
     ]
    }
   ],
   "source": [
    "# get centers\n",
    "centers = km.cluster_centers_\n",
    "print(centers)"
   ]
  },
  {
   "cell_type": "code",
   "execution_count": 8,
   "metadata": {},
   "outputs": [
    {
     "name": "stdout",
     "output_type": "stream",
     "text": [
      "[0 0 0 0 2 0 0 0 0 0 0 0 0 0 0 0 0 0 0 2 2 2 0 0 2 2 0 0 2 0 0 0 0 0 0 2 2\n",
      " 0 0 2 2 0 0 2 2 0 0 0 0 0 0 0 0 0 0 0 0 0 0 1 2 1 2 1 1 2 1 1 2 2 2 1 1 0\n",
      " 2 1 1 1 2 1 1 2 2 1 1 1 1 1 2 2 1 1 1 1 1 2 2 1 2 1 2 1 1 1 2 1 1 1 1 2 1\n",
      " 1 2 1 1 1 1 1 1 1 2 1 1 1 1 1 1 1 1 1 2 1 1 2 2 2 2 1 1 1 2 2 1 1 2 2 1 2\n",
      " 2 1 1 1 1 2 2 2 1 2 2 2 1 2 1 2 2 1 2 2 2 2 1 1 2 2 2 2 2 1]\n"
     ]
    }
   ],
   "source": [
    "# get the labels/clusters\n",
    "labels = km.predict(df)\n",
    "print(labels)"
   ]
  },
  {
   "cell_type": "code",
   "execution_count": 9,
   "metadata": {},
   "outputs": [
    {
     "name": "stdout",
     "output_type": "stream",
     "text": [
      "<bound method DataFrameGroupBy.size of <pandas.core.groupby.generic.DataFrameGroupBy object at 0x000000000E345128>>\n"
     ]
    }
   ],
   "source": [
    "df['label'] = labels\n",
    "\n",
    "groups = df.groupby('label')\n",
    "print(groups.size)"
   ]
  },
  {
   "cell_type": "code",
   "execution_count": 10,
   "metadata": {},
   "outputs": [
    {
     "name": "stdout",
     "output_type": "stream",
     "text": [
      "2370742.3045900567\n"
     ]
    }
   ],
   "source": [
    "inertia = km.inertia_\n",
    "print(inertia)"
   ]
  },
  {
   "cell_type": "code",
   "execution_count": 11,
   "metadata": {},
   "outputs": [
    {
     "name": "stdout",
     "output_type": "stream",
     "text": [
      "     class      a     b     c     d    e     f     g     h     i          j  \\\n",
      "0        1  14.23  1.71  2.43  15.6  127  2.80  3.06  0.28  2.29   5.640000   \n",
      "1        1  13.20  1.78  2.14  11.2  100  2.65  2.76  0.26  1.28   4.380000   \n",
      "2        1  13.16  2.36  2.67  18.6  101  2.80  3.24  0.30  2.81   5.680000   \n",
      "3        1  14.37  1.95  2.50  16.8  113  3.85  3.49  0.24  2.18   7.800000   \n",
      "4        1  13.24  2.59  2.87  21.0  118  2.80  2.69  0.39  1.82   4.320000   \n",
      "5        1  14.20  1.76  2.45  15.2  112  3.27  3.39  0.34  1.97   6.750000   \n",
      "6        1  14.39  1.87  2.45  14.6   96  2.50  2.52  0.30  1.98   5.250000   \n",
      "7        1  14.06  2.15  2.61  17.6  121  2.60  2.51  0.31  1.25   5.050000   \n",
      "8        1  14.83  1.64  2.17  14.0   97  2.80  2.98  0.29  1.98   5.200000   \n",
      "9        1  13.86  1.35  2.27  16.0   98  2.98  3.15  0.22  1.85   7.220000   \n",
      "10       1  14.10  2.16  2.30  18.0  105  2.95  3.32  0.22  2.38   5.750000   \n",
      "11       1  14.12  1.48  2.32  16.8   95  2.20  2.43  0.26  1.57   5.000000   \n",
      "12       1  13.75  1.73  2.41  16.0   89  2.60  2.76  0.29  1.81   5.600000   \n",
      "13       1  14.75  1.73  2.39  11.4   91  3.10  3.69  0.43  2.81   5.400000   \n",
      "14       1  14.38  1.87  2.38  12.0  102  3.30  3.64  0.29  2.96   7.500000   \n",
      "15       1  13.63  1.81  2.70  17.2  112  2.85  2.91  0.30  1.46   7.300000   \n",
      "16       1  14.30  1.92  2.72  20.0  120  2.80  3.14  0.33  1.97   6.200000   \n",
      "17       1  13.83  1.57  2.62  20.0  115  2.95  3.40  0.40  1.72   6.600000   \n",
      "18       1  14.19  1.59  2.48  16.5  108  3.30  3.93  0.32  1.86   8.700000   \n",
      "19       1  13.64  3.10  2.56  15.2  116  2.70  3.03  0.17  1.66   5.100000   \n",
      "20       1  14.06  1.63  2.28  16.0  126  3.00  3.17  0.24  2.10   5.650000   \n",
      "21       1  12.93  3.80  2.65  18.6  102  2.41  2.41  0.25  1.98   4.500000   \n",
      "22       1  13.71  1.86  2.36  16.6  101  2.61  2.88  0.27  1.69   3.800000   \n",
      "23       1  12.85  1.60  2.52  17.8   95  2.48  2.37  0.26  1.46   3.930000   \n",
      "24       1  13.50  1.81  2.61  20.0   96  2.53  2.61  0.28  1.66   3.520000   \n",
      "25       1  13.05  2.05  3.22  25.0  124  2.63  2.68  0.47  1.92   3.580000   \n",
      "26       1  13.39  1.77  2.62  16.1   93  2.85  2.94  0.34  1.45   4.800000   \n",
      "27       1  13.30  1.72  2.14  17.0   94  2.40  2.19  0.27  1.35   3.950000   \n",
      "28       1  13.87  1.90  2.80  19.4  107  2.95  2.97  0.37  1.76   4.500000   \n",
      "29       1  14.02  1.68  2.21  16.0   96  2.65  2.33  0.26  1.98   4.700000   \n",
      "..     ...    ...   ...   ...   ...  ...   ...   ...   ...   ...        ...   \n",
      "148      3  13.32  3.24  2.38  21.5   92  1.93  0.76  0.45  1.25   8.420000   \n",
      "149      3  13.08  3.90  2.36  21.5  113  1.41  1.39  0.34  1.14   9.400000   \n",
      "150      3  13.50  3.12  2.62  24.0  123  1.40  1.57  0.22  1.25   8.600000   \n",
      "151      3  12.79  2.67  2.48  22.0  112  1.48  1.36  0.24  1.26  10.800000   \n",
      "152      3  13.11  1.90  2.75  25.5  116  2.20  1.28  0.26  1.56   7.100000   \n",
      "153      3  13.23  3.30  2.28  18.5   98  1.80  0.83  0.61  1.87  10.520000   \n",
      "154      3  12.58  1.29  2.10  20.0  103  1.48  0.58  0.53  1.40   7.600000   \n",
      "155      3  13.17  5.19  2.32  22.0   93  1.74  0.63  0.61  1.55   7.900000   \n",
      "156      3  13.84  4.12  2.38  19.5   89  1.80  0.83  0.48  1.56   9.010000   \n",
      "157      3  12.45  3.03  2.64  27.0   97  1.90  0.58  0.63  1.14   7.500000   \n",
      "158      3  14.34  1.68  2.70  25.0   98  2.80  1.31  0.53  2.70  13.000000   \n",
      "159      3  13.48  1.67  2.64  22.5   89  2.60  1.10  0.52  2.29  11.750000   \n",
      "160      3  12.36  3.83  2.38  21.0   88  2.30  0.92  0.50  1.04   7.650000   \n",
      "161      3  13.69  3.26  2.54  20.0  107  1.83  0.56  0.50  0.80   5.880000   \n",
      "162      3  12.85  3.27  2.58  22.0  106  1.65  0.60  0.60  0.96   5.580000   \n",
      "163      3  12.96  3.45  2.35  18.5  106  1.39  0.70  0.40  0.94   5.280000   \n",
      "164      3  13.78  2.76  2.30  22.0   90  1.35  0.68  0.41  1.03   9.580000   \n",
      "165      3  13.73  4.36  2.26  22.5   88  1.28  0.47  0.52  1.15   6.620000   \n",
      "166      3  13.45  3.70  2.60  23.0  111  1.70  0.92  0.43  1.46  10.680000   \n",
      "167      3  12.82  3.37  2.30  19.5   88  1.48  0.66  0.40  0.97  10.260000   \n",
      "168      3  13.58  2.58  2.69  24.5  105  1.55  0.84  0.39  1.54   8.660000   \n",
      "169      3  13.40  4.60  2.86  25.0  112  1.98  0.96  0.27  1.11   8.500000   \n",
      "170      3  12.20  3.03  2.32  19.0   96  1.25  0.49  0.40  0.73   5.500000   \n",
      "171      3  12.77  2.39  2.28  19.5   86  1.39  0.51  0.48  0.64   9.899999   \n",
      "172      3  14.16  2.51  2.48  20.0   91  1.68  0.70  0.44  1.24   9.700000   \n",
      "173      3  13.71  5.65  2.45  20.5   95  1.68  0.61  0.52  1.06   7.700000   \n",
      "174      3  13.40  3.91  2.48  23.0  102  1.80  0.75  0.43  1.41   7.300000   \n",
      "175      3  13.27  4.28  2.26  20.0  120  1.59  0.69  0.43  1.35  10.200000   \n",
      "176      3  13.17  2.59  2.37  20.0  120  1.65  0.68  0.53  1.46   9.300000   \n",
      "177      3  14.13  4.10  2.74  24.5   96  2.05  0.76  0.56  1.35   9.200000   \n",
      "\n",
      "        k     l     m  label  \n",
      "0    1.04  3.92  1065      0  \n",
      "1    1.05  3.40  1050      0  \n",
      "2    1.03  3.17  1185      0  \n",
      "3    0.86  3.45  1480      0  \n",
      "4    1.04  2.93   735      2  \n",
      "5    1.05  2.85  1450      0  \n",
      "6    1.02  3.58  1290      0  \n",
      "7    1.06  3.58  1295      0  \n",
      "8    1.08  2.85  1045      0  \n",
      "9    1.01  3.55  1045      0  \n",
      "10   1.25  3.17  1510      0  \n",
      "11   1.17  2.82  1280      0  \n",
      "12   1.15  2.90  1320      0  \n",
      "13   1.25  2.73  1150      0  \n",
      "14   1.20  3.00  1547      0  \n",
      "15   1.28  2.88  1310      0  \n",
      "16   1.07  2.65  1280      0  \n",
      "17   1.13  2.57  1130      0  \n",
      "18   1.23  2.82  1680      0  \n",
      "19   0.96  3.36   845      2  \n",
      "20   1.09  3.71   780      2  \n",
      "21   1.03  3.52   770      2  \n",
      "22   1.11  4.00  1035      0  \n",
      "23   1.09  3.63  1015      0  \n",
      "24   1.12  3.82   845      2  \n",
      "25   1.13  3.20   830      2  \n",
      "26   0.92  3.22  1195      0  \n",
      "27   1.02  2.77  1285      0  \n",
      "28   1.25  3.40   915      2  \n",
      "29   1.04  3.59  1035      0  \n",
      "..    ...   ...   ...    ...  \n",
      "148  0.55  1.62   650      2  \n",
      "149  0.57  1.33   550      1  \n",
      "150  0.59  1.30   500      1  \n",
      "151  0.48  1.47   480      1  \n",
      "152  0.61  1.33   425      1  \n",
      "153  0.56  1.51   675      2  \n",
      "154  0.58  1.55   640      2  \n",
      "155  0.60  1.48   725      2  \n",
      "156  0.57  1.64   480      1  \n",
      "157  0.67  1.73   880      2  \n",
      "158  0.57  1.96   660      2  \n",
      "159  0.57  1.78   620      2  \n",
      "160  0.56  1.58   520      1  \n",
      "161  0.96  1.82   680      2  \n",
      "162  0.87  2.11   570      1  \n",
      "163  0.68  1.75   675      2  \n",
      "164  0.70  1.68   615      2  \n",
      "165  0.78  1.75   520      1  \n",
      "166  0.85  1.56   695      2  \n",
      "167  0.72  1.75   685      2  \n",
      "168  0.74  1.80   750      2  \n",
      "169  0.67  1.92   630      2  \n",
      "170  0.66  1.83   510      1  \n",
      "171  0.57  1.63   470      1  \n",
      "172  0.62  1.71   660      2  \n",
      "173  0.64  1.74   740      2  \n",
      "174  0.70  1.56   750      2  \n",
      "175  0.59  1.56   835      2  \n",
      "176  0.60  1.62   840      2  \n",
      "177  0.61  1.60   560      1  \n",
      "\n",
      "[178 rows x 15 columns]\n"
     ]
    }
   ],
   "source": [
    "print(df)"
   ]
  },
  {
   "cell_type": "code",
   "execution_count": 12,
   "metadata": {},
   "outputs": [
    {
     "data": {
      "text/plain": [
       "<module 'matplotlib.pyplot' from 'C:\\Users\\Armin\\Anaconda2\\lib\\site-packages\\matplotlib\\pyplot.pyc'>"
      ]
     },
     "execution_count": 12,
     "metadata": {},
     "output_type": "execute_result"
    },
    {
     "data": {
      "image/png": "[encoded data removed]",
      "text/plain": [
       "<Figure size 432x288 with 1 Axes>"
      ]
     },
     "metadata": {
      "needs_background": "light"
     },
     "output_type": "display_data"
    }
   ],
   "source": [
    "# colors\n",
    "colors = cm.coolwarm(np.array(labels).astype(float)/clusters)\n",
    "\n",
    "# graph figure\n",
    "fig, ax = plt.subplots()\n",
    "\n",
    "# plot data to graph figure\n",
    "ax.scatter(df['a'], df['b'], marker='o', s=10, c=colors)\n",
    "\n",
    "# attach centers to graph\n",
    "ax.scatter(centers[:,0], centers[:,1], s=200, c='orange', edgecolor='k')\n",
    "for i,c in enumerate(centers):\n",
    "    ax.scatter(c[0], c[1], marker='$%d$'%i, c='red', s=50)\n",
    "    \n",
    "plt"
   ]
  },
  {
   "cell_type": "code",
   "execution_count": 13,
   "metadata": {},
   "outputs": [
    {
     "data": {
      "image/png": "[encoded data removed]",
      "text/plain": [
       "<Figure size 432x288 with 1 Axes>"
      ]
     },
     "metadata": {
      "needs_background": "light"
     },
     "output_type": "display_data"
    }
   ],
   "source": [
    "inertias = []\n",
    "\n",
    "# loop to get inertia where k = 1 to 20\n",
    "for i in range(1, 21) :\n",
    "    km = KMeans(n_clusters=i, n_init=50, tol=1e-10, random_state=1234).fit(df)\n",
    "    inertias.append(km.inertia_)\n",
    "    \n",
    "# graph all inertias with respect to k\n",
    "fig2, ax2 = plt.subplots()\n",
    "ax2.plot(range(1,21), inertias, 'x-')\n",
    "\n",
    "plt.show()"
   ]
  },
  {
   "cell_type": "code",
   "execution_count": 14,
   "metadata": {},
   "outputs": [
    {
     "name": "stdout",
     "output_type": "stream",
     "text": [
      "For k = 2, the score is 0.656848\n",
      "For k = 3, the score is 0.57113\n",
      "For k = 4, the score is 0.562014\n",
      "For k = 5, the score is 0.548971\n",
      "For k = 6, the score is 0.565613\n",
      "For k = 7, the score is 0.561592\n",
      "('k =', 2, 'since', 0.6568, 'is the closest score to 1')\n"
     ]
    }
   ],
   "source": [
    "from sklearn.metrics import silhouette_score\n",
    "\n",
    "scores = []\n",
    "for i in range(2, 8):\n",
    "    km = KMeans(n_clusters=i, n_init=50, tol=1e-10, random_state=1234).fit_predict(df)\n",
    "    sc = silhouette_score(df, km)\n",
    "    print(\"For k = %d, the score is %g\"%(i, sc))\n",
    "    scores.append(sc)\n",
    "    \n",
    "print(\"k =\", scores.index(max(scores)) + 2, \"since\", round(max(scores), 4) , \"is the closest score to 1\")\n",
    "    "
   ]
  },
  {
   "cell_type": "code",
   "execution_count": null,
   "metadata": {},
   "outputs": [],
   "source": []
  }
 ],
 "metadata": {
  "kernelspec": {
   "display_name": "Python 2",
   "language": "python",
   "name": "python2"
  },
  "language_info": {
   "codemirror_mode": {
    "name": "ipython",
    "version": 2
   },
   "file_extension": ".py",
   "mimetype": "text/x-python",
   "name": "python",
   "nbconvert_exporter": "python",
   "pygments_lexer": "ipython2",
   "version": "2.7.16"
  }
 },
 "nbformat": 4,
 "nbformat_minor": 2
}
